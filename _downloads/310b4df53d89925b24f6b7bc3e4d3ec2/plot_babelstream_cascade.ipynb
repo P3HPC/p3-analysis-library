{
  "cells": [
    {
      "cell_type": "code",
      "execution_count": null,
      "metadata": {
        "collapsed": false
      },
      "outputs": [],
      "source": [
        "%matplotlib inline"
      ]
    },
    {
      "cell_type": "markdown",
      "metadata": {},
      "source": [
        "\n# BabelStream Cascade Plot\n\nA cascade plot of BabelStream data.\n\nThis example uses real application data collected with the BabelStream\nbenchmark. However, programming language and platform names have been removed.\nThe original data is available from https://github.com/UoB-HPC/BabelStream.\n\nThis example demonstrates a realistic workflow, where the original data does\nnot use the required naming convention, and application efficiencies are not\nreadily available in the dataset.\n"
      ]
    },
    {
      "cell_type": "markdown",
      "metadata": {},
      "source": [
        "## Load Data into Pandas\n\n"
      ]
    },
    {
      "cell_type": "code",
      "execution_count": null,
      "metadata": {
        "collapsed": false
      },
      "outputs": [],
      "source": [
        "# import libraries\nimport pandas as pd\nimport matplotlib.pyplot as plt\nimport p3\n\n\n# Load performance data from BabelStream results\ndf = pd.read_csv(performance_csv)"
      ]
    },
    {
      "cell_type": "markdown",
      "metadata": {},
      "source": [
        "## Project Labels into Expected Forms\nThe :py:func:`p3.data.projection` method can be used to project column names\nfrom the original data into names required by the P3 Analysis Library.\n\n"
      ]
    },
    {
      "cell_type": "code",
      "execution_count": null,
      "metadata": {
        "collapsed": false
      },
      "outputs": [],
      "source": [
        "df = p3.data.projection(\n    df, problem=[\"name\"], platform=[\"arch\"], application=[\"language\"]\n)"
      ]
    },
    {
      "cell_type": "markdown",
      "metadata": {},
      "source": [
        "Our BabelStream data contains only one problem, and the \"name\" field is\nalways \"BabelStream\". Other BabelStream case studies may feature multiple\narray sizes, which could also be used here.\n\nThe platforms can be identified by the \"arch\" column, which stores an\narchitecture name.\n\nFor this case study, we treat each implementation of BabelStream as a\ndifferent application (consistent with the definition of \"application\"\nhere_). Each implementation of BabelStream is identified by the language it\nis written in.\n\n\n"
      ]
    },
    {
      "cell_type": "markdown",
      "metadata": {},
      "source": [
        "## Calculate Application Efficiencies\nApplication efficiency values show which application(s) are most effective\nat utilizing a given platform. In the below, any row with an 'app eff' of\n0 represents an application that did not run correctly for a given\n(problem, platform) combination; any row with an `app eff` of 1 represents\nan application achieving the best-known performance.\n\n"
      ]
    },
    {
      "cell_type": "code",
      "execution_count": null,
      "metadata": {
        "collapsed": false
      },
      "outputs": [],
      "source": [
        "effs = p3.metrics.application_efficiency(df)\nprint(effs)"
      ]
    },
    {
      "cell_type": "markdown",
      "metadata": {},
      "source": [
        "## Generate a Cascade Plot\n\n"
      ]
    },
    {
      "cell_type": "code",
      "execution_count": null,
      "metadata": {
        "collapsed": false
      },
      "outputs": [],
      "source": [
        "fig = plt.figure(figsize=(6, 5))\nax = p3.plot.cascade(effs) \nplt.savefig(\"cascade.png\", bbox_inches=\"tight\")"
      ]
    },
    {
      "cell_type": "markdown",
      "metadata": {},
      "source": [
        "The plot shows the *application efficiency* (line chart, left) and\n*performance portability* (bar chart, right) of BabelStream across 11\nplatforms (A-I).\n\nThe *application efficiency* for each platform is ranked from highest to\nlowest, such that platforms on the far left have the highest efficiency, and\nplatforms on the far right have the lowest efficiency. If an application does\nnot run on a platform, no efficiency value will be plotted for that platform\nin the line chart.\n\nAn application must run across all platforms to achieve a non-zero\n*performance portability* score. For BabelStream, Language 0 is the only\nprogramming model that runs across all 11 platforms, and is the only one\nwithout a 0 for performance portability in the bar chart.\n\n"
      ]
    }
  ],
  "metadata": {
    "kernelspec": {
      "display_name": "Python 3",
      "language": "python",
      "name": "python3"
    },
    "language_info": {
      "codemirror_mode": {
        "name": "ipython",
        "version": 3
      },
      "file_extension": ".py",
      "mimetype": "text/x-python",
      "name": "python",
      "nbconvert_exporter": "python",
      "pygments_lexer": "ipython3",
      "version": "3.8.10"
    }
  },
  "nbformat": 4,
  "nbformat_minor": 0
}