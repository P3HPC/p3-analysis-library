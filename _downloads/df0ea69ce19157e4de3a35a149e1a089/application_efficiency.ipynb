{
  "cells": [
    {
      "cell_type": "markdown",
      "metadata": {},
      "source": [
        "\n\n# Working with Application Efficiency\n\nUnderstanding relative performance.\n\nOne goal of P3 analysis is to understand how well a given application is able\nto adapt to and make effective use of the capabilities of different\nplatforms. Comparisons of *raw* performance (e.g., time to solution) across\nplatforms can't help us, because raw performance doesn't reflect how fast an\napplication **should** run.\n\nTo address this, the P3 Analysis Library works with normalized *performance\nefficiency* data. With normalized data, an application's performance can be\nrepresented as a number in the range $[0, 1]$, where $1$ means\nan application is achieving the best possible performance.\n\nThere are multiple ways we can normalize the data to measure relative\nefficiency, and for this tutorial we will consider *application efficiency*,\ndefined below:\n\n**Application Efficiency**\n  The performance of an *application*, measured relative to the best known\n  performance previously demonstrated for solving the same *problem* on the\n  same *platform*.\n\nWorking with application efficiency is simple because it does not rely on\nperformance models or theoretical hardware limits. Although it can't tell us\nwhether an application is performing as well as theoretically possible, it\nshows how an application compares to the state-of-the-art, which is often good\nenough.\n\n## Calculating Application Efficiency\n\nLet's begin with a very simple example, with a single application, using the\ndata below:\n\n.. list-table::\n    :widths: 20 20 20 20 20\n    :header-rows: 1\n\n    * - problem\n      - application\n      - platform\n      - fom\n      - date\n\n    * - Test\n      - MyApp\n      - A\n      - 25.0\n      - 2023\n    * - Test\n      - MyApp\n      - B\n      - 12.5\n      - 2023\n    * - Test\n      - MyApp\n      - C\n      - 25.0\n      - 2023\n    * - Test\n      - MyApp\n      - D\n      - NaN\n      - 2023\n    * - Test\n      - MyApp\n      - E\n      - 5.0\n      - 2023\n\n.. tip::\n    A NaN or 0.0 performance result is interpreted by the P3 Analysis Library\n    to mean that an application run was in some way invalid. We can use this\n    to explicitly represent cases where applications did not compile on\n    specific platforms, did not run to completion, or ran but produced\n    numerical results that failed some sort of verification.\n"
      ]
    },
    {
      "cell_type": "markdown",
      "metadata": {},
      "source": [
        "After loading this data into a :py:class:`pandas.DataFrame` (`df`), we can\nuse the :py:func:`p3analysis.metrics.application_efficiency` function to calculate a\ntable of application efficiencies.\n\n"
      ]
    },
    {
      "cell_type": "code",
      "execution_count": null,
      "metadata": {
        "collapsed": false
      },
      "outputs": [],
      "source": [
        "effs = p3analysis.metrics.application_efficiency(df)\nprint(effs)"
      ]
    },
    {
      "cell_type": "markdown",
      "metadata": {},
      "source": [
        "These initial results may be a little surprising, because they're all\neither 1.0 or 0.0. What happened? Since our dataset contains only one result\nfor MyApp on each platform, each non-zero result is the \"best known\" result\nfor that platform! The only exception is Platform D, which is assigned an\nefficiency of 0.0 to reflect that it either did not compile, or did not run\nsuccessfully.\n\n.. tip::\n    Calculating meaningful application efficiency results requires a minimum\n    of two results *per platform*.\n\n### Digging Deeper: Adding More Data\n\nLet's see what happens if we add some more data, from a different application\nrunning on the same platforms:\n\n.. list-table::\n    :widths: 20 20 20 20 20\n    :header-rows: 1\n\n    * - problem\n      - application\n      - platform\n      - fom\n      - date\n\n    * - Test\n      - YourApp\n      - A\n      - 25.0\n      - 2023\n    * - Test\n      - YourApp\n      - B\n      - 10.0\n      - 2023\n    * - Test\n      - YourApp\n      - C\n      - 12.5\n      - 2023\n    * - Test\n      - YourApp\n      - D\n      - 6.0\n      - 2023\n    * - Test\n      - YourApp\n      - E\n      - 1.0\n      - 2023\n\n"
      ]
    },
    {
      "cell_type": "markdown",
      "metadata": {},
      "source": [
        "After updating our DataFrame, we can re-run the same function as before to\nrecompute the application efficiencies.\n\n"
      ]
    },
    {
      "cell_type": "code",
      "execution_count": null,
      "metadata": {
        "collapsed": false
      },
      "outputs": [],
      "source": [
        "effs = p3analysis.metrics.application_efficiency(df)\nprint(effs)"
      ]
    },
    {
      "cell_type": "markdown",
      "metadata": {},
      "source": [
        "YourApp is now the fastest (best known) application on every platform,\nand so it assigned an application efficiency of 1.0 everywhere. The\napplication efficiency values for MyApp are all between 0.0 and 1.0,\nreflecting how close it gets to the state-of-the-art performance on each\nplatform.\n\n.. important::\n    Adding new data changed the application efficiencies for MyApp *and*\n    YourApp. Application efficiency values can become stale over time,\n    and accurate P3 analysis requires us to track \"best known\" results\n    carefully.\n\n## Plotting Application Efficiency\n\nThe P3 Analysis Library does not contain any dedicated functionality for\nplotting application efficiency values. However, it is straightforward to use\n:py:mod:`matplotlib` and/or the plotting functionality of :py:mod:`pandas` to\nproduce useful visualizations.\n\nFor example, plotting a bar chart of application efficiences for one\napplication can help us to summarize that application's performance more\neffectively than a table:\n\n"
      ]
    },
    {
      "cell_type": "code",
      "execution_count": null,
      "metadata": {
        "collapsed": false
      },
      "outputs": [],
      "source": [
        "filtered = effs[effs[\"application\"]==\"MyApp\"]\nfiltered.plot(kind=\"bar\", x=\"platform\", y=\"app eff\", xlabel=\"Platform\", ylabel=\"Application Efficiency\", legend=False)\nplt.savefig(\"application_efficiency_bars_2023.png\")"
      ]
    },
    {
      "cell_type": "markdown",
      "metadata": {},
      "source": [
        "We can now clearly see that MyApp can adapt to and make very effective use of\nPlatforms A and B, is within 2x of state-of-the-art performance on Platform\nC, but performs poorly on Platforms D and E. The key takeaway from this\nanalysis is that a developer wishing to improve the \"performance portability\"\nof MyApp should focus on improving support for Platforms D and E.\n\n## Working with Historical Data\n\nThe performance of an application can change over time, as developers add new\nfeatures and optimize for new platforms, or due to changes in the software\nstack (e.g., new compiler or driver versions).\n\nLet's see how this could affect the application efficiency of MyApp, by adding\nsome new data points collected at a later point in time:\n\n.. list-table::\n    :widths: 20 20 20 20 20\n    :header-rows: 1\n\n    * - problem\n      - application\n      - platform\n      - fom\n      - date\n\n    * - Test\n      - MyApp\n      - A\n      - 30.0\n      - 2024\n    * - Test\n      - MyApp\n      - B\n      - 15.0\n      - 2024\n    * - Test\n      - MyApp\n      - C\n      - 25.0\n      - 2024\n    * - Test\n      - MyApp\n      - D\n      - 3.0\n      - 2024\n    * - Test\n      - MyApp\n      - E\n      - 2.5\n      - 2024\n\n"
      ]
    },
    {
      "cell_type": "markdown",
      "metadata": {},
      "source": [
        "We can compute application efficiency as before:\n\n"
      ]
    },
    {
      "cell_type": "code",
      "execution_count": null,
      "metadata": {
        "collapsed": false
      },
      "outputs": [],
      "source": [
        "effs = p3analysis.metrics.application_efficiency(df)\nprint(effs)"
      ]
    },
    {
      "cell_type": "markdown",
      "metadata": {},
      "source": [
        "These latest results suggest that the developers of MyApp acted upon\nearlier results and improved support for Platforms D and E. But in doing so,\na small performance regression was introduced in Platforms A and B.\n\n<div class=\"alert alert-info\"><h4>Note</h4><p>Such trade-offs are very common, especially when developers wish to\n    maintain a single source code that targets multiple platforms.\n    Different platforms may respond differently to the same code changes,\n    owing to architectural differences (e.g., cache size, available\n    parallelism) or differences in the software stack (e.g., compilers\n    performing different optimizations).\n    For some real-life examples, see the papers\n    [here](https://doi.org/10.1016/j.jpdc.2012.07.005)_\n    and\n    [here](https://doi.org/10.48550/arXiv.2407.11488)_.</p></div>\n\nComputing the correct application efficiency values for MyApp and YourApp\nrequires that our dataset contains all of our historical performance results.\nSince what we're really interested in understanding is the *latest*\napplication efficiency, we should take care to filter our data appropriately\nbefore producing any plots.\n\n"
      ]
    },
    {
      "cell_type": "code",
      "execution_count": null,
      "metadata": {
        "collapsed": false
      },
      "outputs": [],
      "source": [
        "filtered = effs[(effs[\"application\"]==\"MyApp\") & (effs[\"date\"]==2024)]\nfiltered.plot(kind=\"bar\", x=\"platform\", y=\"app eff\", xlabel=\"Platform\", ylabel=\"Application Efficiency\", legend=False)\nplt.savefig(\"application_efficiency_bars_2024.png\")"
      ]
    },
    {
      "cell_type": "markdown",
      "metadata": {},
      "source": [
        "## Further Analysis\n\nComputing application efficiency is often simply the first step of a\nmore detailed P3 analysis.\n\nThe examples below show how we can use the visualization capabilities\nof the P3 Analysis Library to compare the efficiency of different\napplications running across the same platform set, or to gain insight\ninto how an application's efficiency relates to the code it uses on each\nplatform.\n\n.. minigallery::\n    :add-heading: Examples\n\n    ../../examples/cascade/plot_simple_cascade.py\n    ../../examples/navchart/plot_simple_navchart.py\n\n"
      ]
    }
  ],
  "metadata": {
    "kernelspec": {
      "display_name": "Python 3",
      "language": "python",
      "name": "python3"
    },
    "language_info": {
      "codemirror_mode": {
        "name": "ipython",
        "version": 3
      },
      "file_extension": ".py",
      "mimetype": "text/x-python",
      "name": "python",
      "nbconvert_exporter": "python",
      "pygments_lexer": "ipython3",
      "version": "3.12.3"
    }
  },
  "nbformat": 4,
  "nbformat_minor": 0
}