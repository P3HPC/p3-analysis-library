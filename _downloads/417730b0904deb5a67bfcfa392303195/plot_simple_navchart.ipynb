{
  "cells": [
    {
      "cell_type": "code",
      "execution_count": null,
      "metadata": {
        "collapsed": false
      },
      "outputs": [],
      "source": [
        "%matplotlib inline"
      ]
    },
    {
      "cell_type": "markdown",
      "metadata": {},
      "source": [
        "\n# Simple Navigation Chart\n\nA simple navigation chart.\n\nThe point in the top-right corner represents the ideal, where an application\nachieves the best performance across all platforms of interest using a single\nsource code.\n\nThe point in the top-left corner represents applications that achieve the best\nperformance across all platforms of interest, but do so without reusing any\ncode.\n\nAny point along the x-axis represents an application which is unportable (i.e.\nthere is at least one platform of interest where it does not run).\n\nReal-life applications are expected to lie somewhere between these extremes.\n\nA navigation chart is a useful way to visualize the trade-offs between\nperformance (portability) and programmer productivity, assisting in navigation\nof the P3 space and reasoning about how to reach development goals.\n"
      ]
    },
    {
      "cell_type": "code",
      "execution_count": null,
      "metadata": {
        "collapsed": false
      },
      "outputs": [],
      "source": [
        "import matplotlib.pyplot as plt\nimport pandas as pd\n\nimport p3\n\n# Initialize synthetic data\n# (not shown, but available in script download)\n\n# Read performance portability and code divergence data into pandas DataFrame\npp = pd.DataFrame(pp_data)\ncd = pd.DataFrame(cd_data)\n\n# Generate a navigation chart\nfig = plt.figure(figsize=(5, 5))\nax = p3.plot.navchart(pp, cd)\nplt.savefig(\"navchart.png\")"
      ]
    }
  ],
  "metadata": {
    "kernelspec": {
      "display_name": "Python 3",
      "language": "python",
      "name": "python3"
    },
    "language_info": {
      "codemirror_mode": {
        "name": "ipython",
        "version": 3
      },
      "file_extension": ".py",
      "mimetype": "text/x-python",
      "name": "python",
      "nbconvert_exporter": "python",
      "pygments_lexer": "ipython3",
      "version": "3.8.10"
    }
  },
  "nbformat": 4,
  "nbformat_minor": 0
}