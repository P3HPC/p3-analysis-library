{
  "cells": [
    {
      "cell_type": "markdown",
      "metadata": {},
      "source": [
        "\n# Simple Navigation Chart\n\nA simple navigation chart.\n\nThe point in the top-right corner represents the ideal, where an application\nachieves the best performance across all platforms of interest using a single\nsource code.\n\nThe point in the top-left corner represents applications that achieve the best\nperformance across all platforms of interest, but do so without reusing any\ncode.\n\nAny point along the x-axis represents an application which is unportable (i.e.\nthere is at least one platform of interest where it does not run).\n\nReal-life applications are expected to lie somewhere between these extremes.\n\nA navigation chart is a useful way to visualize the trade-offs between\nperformance (portability) and programmer productivity, assisting in navigation\nof the P3 space and reasoning about how to reach development goals.\n"
      ]
    },
    {
      "cell_type": "code",
      "execution_count": null,
      "metadata": {
        "collapsed": false
      },
      "outputs": [],
      "source": [
        "# Initialize synthetic data\n# (not shown, but available in script download)\n\n# Read performance portability and code divergence data into pandas DataFrame\npp = pd.DataFrame(pp_data)\ncd = pd.DataFrame(cd_data)\n\n# Generate a navigation chart\nnavchart = p3analysis.plot.navchart(pp, cd, size=(5, 5))\nnavchart.save(\"navchart.png\")"
      ]
    }
  ],
  "metadata": {
    "kernelspec": {
      "display_name": "Python 3",
      "language": "python",
      "name": "python3"
    },
    "language_info": {
      "codemirror_mode": {
        "name": "ipython",
        "version": 3
      },
      "file_extension": ".py",
      "mimetype": "text/x-python",
      "name": "python",
      "nbconvert_exporter": "python",
      "pygments_lexer": "ipython3",
      "version": "3.12.3"
    }
  },
  "nbformat": 4,
  "nbformat_minor": 0
}