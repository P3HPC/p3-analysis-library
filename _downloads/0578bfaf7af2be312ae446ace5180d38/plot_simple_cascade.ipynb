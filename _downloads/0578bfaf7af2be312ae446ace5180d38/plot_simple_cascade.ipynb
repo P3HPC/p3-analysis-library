{
  "cells": [
    {
      "cell_type": "markdown",
      "metadata": {},
      "source": [
        "\n# Simple Cascade\n\nA simple cascade plot.\n\nThis example uses the synthetic performance efficiency data introduced\nin the paper \"`Interpreting and Visualizing Performance Portability Metrics`_\"\nto demonstrate the structure and interpretation of a cascade plot.\n\nThe dataset contains application efficiency for six hypothetical applications:\n\n1. **Unportable**: Runs on only one platform.\n2. **Single Target**: Runs everywhere, but with high efficiency on one platform.\n3. **Multi-Target**: Runs everywhere, with high efficiency on half of the platforms.\n4. **Consistent (30%)**: Runs everywhere, with 30% efficiency.\n5. **Consistent (70%)**: Runs everywhere, with 70% efficiency.\n6. **Inconsistent**: Runs everywhere, with inconsistent efficiency.\n\nThe line chart shows the efficiency of each application for every platform it\nsupports. Platforms are sorted individually for each application, in decreasing\norder of application efficiency.\n\nThe boxes underneath the line chart show which platform is associated with each\npoint in the line chart, for each application.\n\nThe bar chart shows the performance portability of each application.\n\n"
      ]
    },
    {
      "cell_type": "code",
      "execution_count": null,
      "metadata": {
        "collapsed": false
      },
      "outputs": [],
      "source": [
        "# Initialize synthetic performance efficiency data\n# (not shown, but available in script download)\n\n# Read performance efficiency data into pandas DataFrame\ndf = pd.DataFrame(data)\n\n# Generate a cascade plot\ncascade = p3analysis.plot.cascade(df, size=(6, 5))\ncascade.save(\"cascade.png\")"
      ]
    }
  ],
  "metadata": {
    "kernelspec": {
      "display_name": "Python 3",
      "language": "python",
      "name": "python3"
    },
    "language_info": {
      "codemirror_mode": {
        "name": "ipython",
        "version": 3
      },
      "file_extension": ".py",
      "mimetype": "text/x-python",
      "name": "python",
      "nbconvert_exporter": "python",
      "pygments_lexer": "ipython3",
      "version": "3.12.3"
    }
  },
  "nbformat": 4,
  "nbformat_minor": 0
}