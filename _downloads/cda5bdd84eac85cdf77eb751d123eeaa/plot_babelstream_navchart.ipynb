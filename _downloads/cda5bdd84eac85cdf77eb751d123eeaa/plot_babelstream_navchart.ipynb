{
  "cells": [
    {
      "cell_type": "code",
      "execution_count": null,
      "metadata": {
        "collapsed": false
      },
      "outputs": [],
      "source": [
        "%matplotlib inline"
      ]
    },
    {
      "cell_type": "markdown",
      "metadata": {},
      "source": [
        "\n# BabelStream Navigation Chart\n\nA navigation chart of BabelStream data.\n\nThis example uses real application data collected with the BabelStream\nbenchmark. However, programming language and platform names have been removed.\nThe original data is available from https://github.com/UoB-HPC/BabelStream.\n"
      ]
    },
    {
      "cell_type": "markdown",
      "metadata": {},
      "source": [
        "## Load Data into Pandas\n\n"
      ]
    },
    {
      "cell_type": "code",
      "execution_count": null,
      "metadata": {
        "collapsed": false
      },
      "outputs": [],
      "source": [
        "# import libraries\nimport pandas as pd\nimport matplotlib.pyplot as plt\nimport p3\n\n\n# Load data from BabelStream results\ndf = pd.read_csv(performance_csv)\ndf_cov = pd.read_csv(coverage_csv)"
      ]
    },
    {
      "cell_type": "markdown",
      "metadata": {},
      "source": [
        "Note that, unlike a `cascade plot`_, plotting a navigation chart requires\nboth performance and coverage data.\n\n\n"
      ]
    },
    {
      "cell_type": "markdown",
      "metadata": {},
      "source": [
        "## Project Labels into Expected Forms\nThe :py:func:`p3.data.projection` method can be used to project column names\nfrom the original data into names required by the P3 Analysis Library.\n\n"
      ]
    },
    {
      "cell_type": "code",
      "execution_count": null,
      "metadata": {
        "collapsed": false
      },
      "outputs": [],
      "source": [
        "df = p3.data.projection(\n    df, problem=[\"name\"], platform=[\"arch\"], application=[\"language\"]\n)"
      ]
    },
    {
      "cell_type": "markdown",
      "metadata": {},
      "source": [
        "Our BabelStream data contains only one problem, and the \"name\" field is\nalways \"BabelStream\". Other BabelStream case studies may feature multiple\narray sizes, which could also be used here.\n\nThe platforms can be identified by the \"arch\" column, which stores an\narchitecture name.\n\nFor this case study, we treat each implementation of BabelStream as a\ndifferent application (consistent with the definition of \"application\"\nhere_). Each implementation of BabelStream is identified by the language it\nis written in.\n\n\n"
      ]
    },
    {
      "cell_type": "markdown",
      "metadata": {},
      "source": [
        "## Calculate P3 Metrics\n\n### Application Efficiency\nApplication efficiency values show which application(s) are most effective\nat utilizing a given platform. In the below, any row with an 'app eff' of\n0 represents an application that did not run correctly for a given\n(problem, platform) combination; any row with an `app eff` of 1 represents\nan application achieving the best-known performance.\n\n"
      ]
    },
    {
      "cell_type": "code",
      "execution_count": null,
      "metadata": {
        "collapsed": false
      },
      "outputs": [],
      "source": [
        "effs = p3.metrics.application_efficiency(df)\nprint(effs)"
      ]
    },
    {
      "cell_type": "markdown",
      "metadata": {},
      "source": [
        "### Code Divergence\nCode divergence values show how much code is re-used across the platforms\ntargeted by a specific application. For BabelStream, only Language 0\nhas a non-zero divergence, as it is the only implementation containing\ndifferent code paths for different platforms.\n\n"
      ]
    },
    {
      "cell_type": "code",
      "execution_count": null,
      "metadata": {
        "collapsed": false
      },
      "outputs": [],
      "source": [
        "div = p3.metrics.divergence(df, df_cov)\nprint(div)"
      ]
    },
    {
      "cell_type": "markdown",
      "metadata": {},
      "source": [
        "### Performance Portability\nPerformance portability values show the average efficiency achieved when\nusing all platforms in the set. An application must run across all platforms\nto achieve a non-zero performance portability score. For BabelStream,\nLanguage 0 is the only programming model that runs across all 11 platforms.\n\n"
      ]
    },
    {
      "cell_type": "code",
      "execution_count": null,
      "metadata": {
        "collapsed": false
      },
      "outputs": [],
      "source": [
        "pp = p3.metrics.pp(effs)\nprint(pp)"
      ]
    },
    {
      "cell_type": "markdown",
      "metadata": {},
      "source": [
        "## Generate a Navigation Chart\n\n"
      ]
    },
    {
      "cell_type": "code",
      "execution_count": null,
      "metadata": {
        "collapsed": false
      },
      "outputs": [],
      "source": [
        "fig = plt.figure(figsize=(5, 5))\nax = p3.plot.navchart(pp, div)\nplt.savefig(\"navchart.png\")"
      ]
    },
    {
      "cell_type": "markdown",
      "metadata": {},
      "source": [
        "The plot shows the performance portability and code convergence values for\neach implementation of BabelStream. Code convergence is simply (1 -- code\ndivergence).\n\nThe top-right corner of a navigation chart represents the ideal, where an\napplication achieves the best performance across all platforms of interest\nusing a single source code. The top-left corner represents an application\nthat achieves the best performance but without reusing any code across\nplatforms. Any points along the x-axis are unportable (i.e. there is at least\none platform of interest where it does not run).\n\nFor BabelStream, Language 0 is the only implementation that runs across all\nplatforms and is therefore the only point not on the x-axis. All other\nimplementations are plotted at (1, 0) because although they use exactly the\nsame source code to target all platforms, there is at least one platform\nwhere they do not run.\n\n"
      ]
    }
  ],
  "metadata": {
    "kernelspec": {
      "display_name": "Python 3",
      "language": "python",
      "name": "python3"
    },
    "language_info": {
      "codemirror_mode": {
        "name": "ipython",
        "version": 3
      },
      "file_extension": ".py",
      "mimetype": "text/x-python",
      "name": "python",
      "nbconvert_exporter": "python",
      "pygments_lexer": "ipython3",
      "version": "3.8.10"
    }
  },
  "nbformat": 4,
  "nbformat_minor": 0
}