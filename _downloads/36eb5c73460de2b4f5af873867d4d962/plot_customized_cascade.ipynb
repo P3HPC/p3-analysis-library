{
  "cells": [
    {
      "cell_type": "markdown",
      "metadata": {},
      "source": [
        "\n# Customized Cascade\n\nA customized cascade plot.\n\nIn this example, we show how to customize a cascade plot by changing the limits\nof the y-axis. Although the default limit (of 1) is useful for comparing many\nplots side-by-side, in practice it is often useful to be able to zoom-in on\nspecific regions of data. For example, when dealing with applications that do\nnot achieve very high levels of architectural efficiency, setting a lower\nmaximum value for the y-axis can improve readability.\n\nInstead of trying to expose all possible customization options as arguments to\n:py:func:`p3analysis.plot.cascade`, the function returns a\n:py:class:`p3analysis.plot.CascadePlot` object that provides direct access to library\ninternals. When using the :py:mod:`matplotlib` backend it is possible to\naccess the :py:class:`matplotlib.axes.Axes` that were used and subsequently\ncall any number of :py:mod:`matplotlib` functions. In our example, we can\nuse :py:meth:`matplotlib.axes.Axes.set_ylim` to update the y-axis.\n\n.. NOTE::\n   :py:mod:`matplotlib` is currently the only backend supported by the P3\n   Analysis Library, but this is subject to change.\n\n.. TIP::\n   If you have any trouble customizing a plot, or the\n   :py:class:`~p3analysis.plot.backend.CascadePlot` object does not provide access to\n   the internals you are looking for, then please [open an issue](https://github.com/P3HPC/p3-analysis-library/issues/new/choose).\n"
      ]
    },
    {
      "cell_type": "code",
      "execution_count": null,
      "metadata": {
        "collapsed": false
      },
      "outputs": [],
      "source": [
        "# Initialize synthetic performance efficiency data\n# (not shown, but available in script download)\n\n# Read performance efficiency data into pandas DataFrame\ndf = pd.DataFrame(data)\n\n# Generate a cascade plot with custom style options\nlegend = p3analysis.plot.Legend(loc=\"center left\", bbox_to_anchor=(0.91, 0.225), ncols=2)\npstyle = p3analysis.plot.PlatformStyle(colors=\"GnBu\")\nastyle = p3analysis.plot.ApplicationStyle(markers=[\"x\", \"s\", \"p\", \"h\", \"H\", \"v\"])\ncascade = p3analysis.plot.cascade(df, size=(6, 5), platform_legend=legend, platform_style=pstyle, application_style=astyle)\n\n# Further customize the cascade plot using matplotlib\n# In this example, we adjust the range of the y-axis to improve readability\n# This may be necessary for studies using architectural efficiency\ncascade.get_axes(\"eff\").set_ylim([0, 0.12])\ncascade.get_axes(\"pp\").set_ylim([0, 0.12])\n\ncascade.save(\"customized-cascade.png\")"
      ]
    }
  ],
  "metadata": {
    "kernelspec": {
      "display_name": "Python 3",
      "language": "python",
      "name": "python3"
    },
    "language_info": {
      "codemirror_mode": {
        "name": "ipython",
        "version": 3
      },
      "file_extension": ".py",
      "mimetype": "text/x-python",
      "name": "python",
      "nbconvert_exporter": "python",
      "pygments_lexer": "ipython3",
      "version": "3.12.3"
    }
  },
  "nbformat": 4,
  "nbformat_minor": 0
}