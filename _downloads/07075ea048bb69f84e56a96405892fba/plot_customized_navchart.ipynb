{
  "cells": [
    {
      "cell_type": "markdown",
      "metadata": {},
      "source": [
        "\n# Customized Navigation Chart\n\nA customized navigation chart.\n\nIn this example, we show how to customize a navigation chart by increasing the\nnumber of axis ticks and by annotating one of the datapoints. Adjusting the\nnumber of axis ticks can improve a reader's ability to discern between two\nsimilar values, while annotations can be useful to draw attention to certain\npoints and/or provide some additional context.\n\nInstead of trying to expose all possible customization options as arguments to\n:py:func:`p3analysis.plot.navchart`, the function returns a\n:py:class:`p3analysis.plot.NavChart` object that provides direct access to library\ninternals. When using the :py:mod:`matplotlib` backend it is possible to\naccess the :py:class:`matplotlib.axes.Axes` that were used and subsequently\ncall any number of :py:mod:`matplotlib` functions. In our example, we can\nuse :py:meth:`matplotlib.axes.Axes.set_xticks` and\n:py:meth:`matplotlib.axes.Axes.set_yticks` to control the ticks, and can use\n:py:meth:`matplotlib.axes.Axes.annotate` for annotations.\n\n.. NOTE::\n   :py:mod:`matplotlib` is currently the only backend supported by the P3\n   Analysis Library, but this is subject to change.\n\n.. TIP::\n   If you have any trouble customizing a navigation chart, or the\n   :py:class:`~p3analysis.plot.backend.NavChart` object does not provide access to the\n   internals you are looking for, then please [open an issue](https://github.com/P3HPC/p3-analysis-library/issues/new/choose).\n"
      ]
    },
    {
      "cell_type": "code",
      "execution_count": null,
      "metadata": {
        "collapsed": false
      },
      "outputs": [],
      "source": [
        "# Initialize synthetic data\n# (not shown, but available in script download)\n\n# Read performance portability and code divergence data into pandas DataFrame\npp = pd.DataFrame(pp_data)\ncd = pd.DataFrame(cd_data)\n\n# Generate a navigation chart with custom style options\nlegend = p3analysis.plot.Legend(loc=\"center left\", bbox_to_anchor=(1.0, 0.5))\nastyle = p3analysis.plot.ApplicationStyle(markers=[\"x\", \"*\", \"s\", \"o\", \"P\"])\nnavchart = p3analysis.plot.navchart(pp, cd, size=(5, 5), legend=legend, style=astyle)\n\n# Further customize the navigation chart using matplotlib\n# In this example, we add a label and adjust the ticks\nax = navchart.get_axes()\nax.annotate(\n    \"Balances performance and code re-use.\",\n    xy=(0.7, 0.7),\n    xytext=(0.2, 0.55),\n    arrowprops=dict(facecolor='black', shrink=0.05),\n)\nax.set_xticks([x * 0.1 for x in range(0, 11)])\nax.set_yticks([y * 0.1 for y in range(0, 11)])\n\nnavchart.save(\"customized-navchart.png\")"
      ]
    }
  ],
  "metadata": {
    "kernelspec": {
      "display_name": "Python 3",
      "language": "python",
      "name": "python3"
    },
    "language_info": {
      "codemirror_mode": {
        "name": "ipython",
        "version": 3
      },
      "file_extension": ".py",
      "mimetype": "text/x-python",
      "name": "python",
      "nbconvert_exporter": "python",
      "pygments_lexer": "ipython3",
      "version": "3.12.3"
    }
  },
  "nbformat": 4,
  "nbformat_minor": 0
}